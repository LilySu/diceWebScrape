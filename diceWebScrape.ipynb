{
 "cells": [
  {
   "cell_type": "code",
   "execution_count": 1,
   "metadata": {
    "collapsed": false
   },
   "outputs": [],
   "source": [
    "%matplotlib inline\n",
    "\n",
    "from bs4 import BeautifulSoup\n",
    "from urllib.request import urlopen\n",
    "import requests\n",
    "import re\n",
    "import time\n",
    "import math\n",
    "import numpy as np\n",
    "import nltk\n",
    "from nltk.stem.porter import PorterStemmer\n",
    "from sklearn.feature_extraction.text import TfidfVectorizer\n",
    "import collections\n",
    "from wordcloud import WordCloud\n",
    "import matplotlib.pyplot as plt"
   ]
  },
  {
   "cell_type": "markdown",
   "metadata": {},
   "source": [
    "## Webscrape Setup"
   ]
  },
  {
   "cell_type": "code",
   "execution_count": 297,
   "metadata": {
    "collapsed": false
   },
   "outputs": [
    {
     "name": "stderr",
     "output_type": "stream",
     "text": [
      "/Users/ganesh/anaconda3/lib/python3.5/site-packages/bs4/__init__.py:166: UserWarning: No parser was explicitly specified, so I'm using the best available HTML parser for this system (\"lxml\"). This usually isn't a problem, but if you run this code on another system, or in a different virtual environment, it may use a different parser and behave differently.\n",
      "\n",
      "To get rid of this warning, change this:\n",
      "\n",
      " BeautifulSoup([your markup])\n",
      "\n",
      "to this:\n",
      "\n",
      " BeautifulSoup([your markup], \"lxml\")\n",
      "\n",
      "  markup_type=markup_type))\n"
     ]
    }
   ],
   "source": [
    "headers = { \"User-Agent\": \"Data Analysis Project/ Contact me: gkrishnan.gt@gmail.com \", \"Accept-Encoding\": \"gzip\", }\n",
    "\n",
    "url = \"https://www.dice.com/jobs/q-data_scientist-limit-30-l-94133-radius-30-startPage-{}-limit-30-jobs\"\n",
    "\n",
    "r = requests.get(url.format(\"1\"), headers=headers)\n",
    "soup = BeautifulSoup(r.text)\n"
   ]
  },
  {
   "cell_type": "markdown",
   "metadata": {},
   "source": [
    "## Let's parse the first page to find the number of entries. This will help us screen scrape appropriately"
   ]
  },
  {
   "cell_type": "code",
   "execution_count": 303,
   "metadata": {
    "collapsed": false
   },
   "outputs": [],
   "source": [
    "count_block = soup.find_all ('h4')\n",
    "num_results = int (count_block[0].find_all('span')[1].text)\n",
    "num_pages = math.ceil (num_results/30)"
   ]
  },
  {
   "cell_type": "markdown",
   "metadata": {},
   "source": [
    "## Let's now setup a loop to visit each individual search page and extract the links and the titles of each job"
   ]
  },
  {
   "cell_type": "code",
   "execution_count": 304,
   "metadata": {
    "collapsed": false
   },
   "outputs": [
    {
     "name": "stdout",
     "output_type": "stream",
     "text": [
      "Search page 1\n",
      "Search page 2\n",
      "Search page 3\n",
      "Search page 4\n",
      "Search page 5\n",
      "Search page 6\n",
      "Search page 7\n",
      "Search page 8\n",
      "Search page 9\n",
      "Search page 10\n",
      "Search page 11\n",
      "Search page 12\n",
      "Search page 13\n",
      "Search page 14\n",
      "Search page 15\n",
      "Search page 16\n",
      "Search page 17\n",
      "Search page 18\n",
      "Search page 19\n",
      "Search page 20\n",
      "Search page 21\n",
      "Search page 22\n",
      "Search page 23\n",
      "Search page 24\n",
      "Search page 25\n",
      "Search page 26\n",
      "Search page 27\n",
      "Search page 28\n",
      "Search page 29\n",
      "Search page 30\n",
      "Search page 31\n",
      "Search page 32\n",
      "Search page 33\n",
      "Search page 34\n",
      "Search page 35\n",
      "Search page 36\n",
      "Search page 37\n",
      "Search page 38\n",
      "Search page 39\n",
      "Search page 40\n",
      "Search page 41\n",
      "Search page 42\n",
      "Search page 43\n",
      "Search page 44\n",
      "Search page 45\n",
      "Search page 46\n",
      "Search page 47\n",
      "Search page 48\n",
      "Search page 49\n",
      "Search page 50\n",
      "Search page 51\n",
      "Search page 52\n",
      "Search page 53\n",
      "Search page 54\n",
      "Search page 55\n",
      "Search page 56\n",
      "Search page 57\n",
      "Search page 58\n",
      "Search page 59\n",
      "Search page 60\n",
      "Search page 61\n",
      "Search page 62\n",
      "Search page 63\n",
      "Search page 64\n",
      "Search page 65\n",
      "Search page 66\n",
      "Search page 67\n",
      "Search page 68\n",
      "Search page 69\n"
     ]
    },
    {
     "name": "stderr",
     "output_type": "stream",
     "text": [
      "/Users/ganesh/anaconda3/lib/python3.5/site-packages/bs4/__init__.py:166: UserWarning: No parser was explicitly specified, so I'm using the best available HTML parser for this system (\"lxml\"). This usually isn't a problem, but if you run this code on another system, or in a different virtual environment, it may use a different parser and behave differently.\n",
      "\n",
      "To get rid of this warning, change this:\n",
      "\n",
      " BeautifulSoup([your markup])\n",
      "\n",
      "to this:\n",
      "\n",
      " BeautifulSoup([your markup], \"lxml\")\n",
      "\n",
      "  markup_type=markup_type))\n"
     ]
    }
   ],
   "source": [
    "links= []\n",
    "title= []\n",
    "\n",
    "for search_page in range (1, num_pages + 1):\n",
    "    print (\"Search page {}\".format (search_page))\n",
    "    r = requests.get(url.format (search_page), headers=headers)\n",
    "    soup = BeautifulSoup(r.text)\n",
    "    for div in soup.find_all('div'):\n",
    "        try:\n",
    "            if div['class']==['serp-result-content']:\n",
    "                all_links = div.find_all('a')\n",
    "                for link in all_links:\n",
    "                    if re.search ('position[0-9]+', link['id']):\n",
    "                        title.append (link['title'])\n",
    "                        links.append (link['href'])\n",
    "        except:\n",
    "            next\n"
   ]
  },
  {
   "cell_type": "code",
   "execution_count": 323,
   "metadata": {
    "collapsed": false
   },
   "outputs": [],
   "source": [
    "data_titles_indices = []\n",
    "for index, item in enumerate (title):\n",
    "    if re.search (\"data \", item.lower()):\n",
    "        data_titles_indices.append (index) \n",
    "relevant_links = [links[index] for index in data_titles_indices]"
   ]
  },
  {
   "cell_type": "markdown",
   "metadata": {},
   "source": [
    "## Let's visit each individual link from the search results and create a corpus to analyze"
   ]
  },
  {
   "cell_type": "code",
   "execution_count": 333,
   "metadata": {
    "collapsed": false
   },
   "outputs": [
    {
     "name": "stdout",
     "output_type": "stream",
     "text": [
      "Processing page #{} 1\n",
      "Processing page #{} 2\n",
      "Processing page #{} 3\n",
      "Processing page #{} 4\n",
      "Processing page #{} 5\n",
      "Processing page #{} 6\n",
      "Processing page #{} 7\n",
      "Processing page #{} 8\n",
      "Processing page #{} 9\n",
      "Processing page #{} 10\n",
      "Processing page #{} 11\n",
      "Processing page #{} 12\n",
      "Processing page #{} 13\n",
      "Processing page #{} 14\n",
      "Processing page #{} 15\n",
      "Processing page #{} 16\n",
      "Processing page #{} 17\n",
      "Processing page #{} 18\n",
      "Processing page #{} 19\n",
      "Processing page #{} 20\n",
      "Processing page #{} 21\n",
      "Processing page #{} 22\n",
      "Processing page #{} 23\n",
      "Processing page #{} 24\n",
      "Processing page #{} 25\n",
      "Processing page #{} 26\n",
      "Processing page #{} 27\n",
      "Processing page #{} 28\n",
      "Processing page #{} 29\n",
      "Processing page #{} 30\n",
      "Processing page #{} 31\n",
      "Processing page #{} 32\n",
      "Processing page #{} 33\n",
      "Processing page #{} 34\n",
      "Processing page #{} 35\n",
      "Processing page #{} 36\n",
      "Processing page #{} 37\n",
      "Processing page #{} 38\n",
      "Processing page #{} 39\n",
      "Processing page #{} 40\n",
      "Processing page #{} 41\n",
      "Processing page #{} 42\n",
      "Processing page #{} 43\n",
      "Processing page #{} 44\n",
      "Processing page #{} 45\n",
      "Processing page #{} 46\n",
      "Processing page #{} 47\n",
      "Processing page #{} 48\n",
      "Processing page #{} 49\n",
      "Processing page #{} 50\n",
      "Processing page #{} 51\n",
      "Processing page #{} 52\n",
      "Processing page #{} 53\n",
      "Processing page #{} 54\n",
      "Processing page #{} 55\n",
      "Processing page #{} 56\n",
      "Processing page #{} 57\n",
      "Processing page #{} 58\n",
      "Processing page #{} 59\n",
      "Processing page #{} 60\n",
      "Processing page #{} 61\n",
      "Processing page #{} 62\n",
      "Processing page #{} 63\n",
      "Processing page #{} 64\n",
      "Processing page #{} 65\n",
      "Processing page #{} 66\n",
      "Processing page #{} 67\n",
      "Processing page #{} 68\n",
      "Processing page #{} 69\n",
      "Processing page #{} 70\n",
      "Processing page #{} 71\n",
      "Processing page #{} 72\n",
      "Processing page #{} 73\n",
      "Processing page #{} 74\n",
      "Processing page #{} 75\n",
      "Processing page #{} 76\n",
      "Processing page #{} 77\n",
      "Processing page #{} 78\n",
      "Processing page #{} 79\n",
      "Processing page #{} 80\n",
      "Processing page #{} 81\n",
      "Processing page #{} 82\n",
      "Processing page #{} 83\n",
      "Processing page #{} 84\n",
      "Processing page #{} 85\n",
      "Processing page #{} 86\n",
      "Processing page #{} 87\n",
      "Processing page #{} 88\n",
      "Processing page #{} 89\n",
      "Processing page #{} 90\n",
      "Processing page #{} 91\n",
      "Processing page #{} 92\n",
      "Processing page #{} 93\n",
      "Processing page #{} 94\n",
      "Processing page #{} 95\n",
      "Processing page #{} 96\n",
      "Processing page #{} 97\n",
      "Processing page #{} 98\n",
      "Processing page #{} 99\n",
      "Processing page #{} 100\n",
      "Processing page #{} 101\n",
      "Processing page #{} 102\n",
      "Processing page #{} 103\n",
      "Processing page #{} 104\n",
      "Processing page #{} 105\n",
      "Processing page #{} 106\n",
      "Processing page #{} 107\n",
      "Processing page #{} 108\n",
      "Processing page #{} 109\n",
      "Processing page #{} 110\n",
      "Processing page #{} 111\n",
      "Processing page #{} 112\n",
      "Processing page #{} 113\n",
      "Processing page #{} 114\n",
      "Processing page #{} 115\n",
      "Processing page #{} 116\n",
      "Processing page #{} 117\n",
      "Processing page #{} 118\n",
      "Processing page #{} 119\n",
      "Processing page #{} 120\n",
      "Processing page #{} 121\n",
      "Processing page #{} 122\n",
      "Processing page #{} 123\n",
      "Processing page #{} 124\n",
      "Processing page #{} 125\n",
      "Processing page #{} 126\n",
      "Processing page #{} 127\n",
      "Processing page #{} 128\n",
      "Processing page #{} 129\n",
      "Processing page #{} 130\n",
      "Processing page #{} 131\n",
      "Processing page #{} 132\n",
      "Processing page #{} 133\n",
      "Processing page #{} 134\n",
      "Processing page #{} 135\n",
      "Processing page #{} 136\n",
      "Processing page #{} 137\n",
      "Processing page #{} 138\n",
      "Processing page #{} 139\n",
      "Processing page #{} 140\n",
      "Processing page #{} 141\n",
      "Processing page #{} 142\n",
      "Processing page #{} 143\n",
      "Processing page #{} 144\n",
      "Processing page #{} 145\n",
      "Processing page #{} 146\n",
      "Processing page #{} 147\n",
      "Processing page #{} 148\n",
      "Processing page #{} 149\n",
      "Processing page #{} 150\n",
      "Processing page #{} 151\n",
      "Processing page #{} 152\n",
      "Processing page #{} 153\n",
      "Processing page #{} 154\n",
      "Processing page #{} 155\n",
      "Processing page #{} 156\n",
      "Processing page #{} 157\n",
      "Processing page #{} 158\n",
      "Processing page #{} 159\n",
      "Processing page #{} 160\n",
      "Processing page #{} 161\n",
      "Processing page #{} 162\n",
      "Processing page #{} 163\n",
      "Processing page #{} 164\n",
      "Processing page #{} 165\n",
      "Processing page #{} 166\n",
      "Processing page #{} 167\n",
      "Processing page #{} 168\n",
      "Processing page #{} 169\n",
      "Processing page #{} 170\n",
      "Processing page #{} 171\n",
      "Processing page #{} 172\n",
      "Processing page #{} 173\n",
      "Processing page #{} 174\n",
      "Processing page #{} 175\n",
      "Processing page #{} 176\n",
      "Processing page #{} 177\n",
      "Processing page #{} 178\n",
      "Processing page #{} 179\n",
      "Processing page #{} 180\n",
      "Processing page #{} 181\n",
      "Processing page #{} 182\n",
      "Processing page #{} 183\n",
      "Processing page #{} 184\n",
      "Processing page #{} 185\n",
      "Processing page #{} 186\n",
      "Processing page #{} 187\n",
      "Processing page #{} 188\n",
      "Processing page #{} 189\n",
      "Processing page #{} 190\n",
      "Processing page #{} 191\n",
      "Processing page #{} 192\n",
      "Processing page #{} 193\n",
      "Processing page #{} 194\n",
      "Processing page #{} 195\n",
      "Processing page #{} 196\n",
      "Processing page #{} 197\n",
      "Processing page #{} 198\n",
      "Processing page #{} 199\n",
      "Processing page #{} 200\n",
      "Processing page #{} 201\n",
      "Processing page #{} 202\n",
      "Processing page #{} 203\n",
      "Processing page #{} 204\n",
      "Processing page #{} 205\n",
      "Processing page #{} 206\n",
      "Processing page #{} 207\n",
      "Processing page #{} 208\n",
      "Processing page #{} 209\n",
      "Processing page #{} 210\n",
      "Processing page #{} 211\n",
      "Processing page #{} 212\n",
      "Processing page #{} 213\n",
      "Processing page #{} 214\n",
      "Processing page #{} 215\n",
      "Processing page #{} 216\n",
      "Processing page #{} 217\n",
      "Processing page #{} 218\n",
      "Processing page #{} 219\n",
      "Processing page #{} 220\n",
      "Processing page #{} 221\n",
      "Processing page #{} 222\n",
      "Processing page #{} 223\n",
      "Processing page #{} 224\n",
      "Processing page #{} 225\n",
      "Processing page #{} 226\n",
      "Processing page #{} 227\n",
      "Processing page #{} 228\n",
      "Processing page #{} 229\n",
      "Processing page #{} 230\n",
      "Processing page #{} 231\n"
     ]
    },
    {
     "name": "stderr",
     "output_type": "stream",
     "text": [
      "/Users/ganesh/anaconda3/lib/python3.5/site-packages/bs4/__init__.py:166: UserWarning: No parser was explicitly specified, so I'm using the best available HTML parser for this system (\"lxml\"). This usually isn't a problem, but if you run this code on another system, or in a different virtual environment, it may use a different parser and behave differently.\n",
      "\n",
      "To get rid of this warning, change this:\n",
      "\n",
      " BeautifulSoup([your markup])\n",
      "\n",
      "to this:\n",
      "\n",
      " BeautifulSoup([your markup], \"lxml\")\n",
      "\n",
      "  markup_type=markup_type))\n"
     ]
    }
   ],
   "source": [
    "job_desc_div = []\n",
    "for index, link in enumerate (relevant_links, start=1):\n",
    "    try:\n",
    "        print (\"Processing page #{}\".format(index))\n",
    "        r = requests.get (link, headers=headers)\n",
    "        soup = BeautifulSoup (r.text)\n",
    "        for div in soup.find_all ('div'):\n",
    "            try:\n",
    "                if div['id'] == 'jobdescSec':\n",
    "                    job_desc_div.append (div)\n",
    "            except KeyError:\n",
    "                next\n",
    "    except:\n",
    "        next"
   ]
  },
  {
   "cell_type": "code",
   "execution_count": 430,
   "metadata": {
    "collapsed": false
   },
   "outputs": [],
   "source": [
    "job_desc = [re.sub (u'\\xa0', u' ', div.get_text(\"\\n\", strip=True)) for div in job_desc_div ]\n",
    "\n",
    "def tokenize(text):\n",
    "    tokens = nltk.word_tokenize(text)\n",
    "    tagged_tokens = nltk.pos_tag (tokens)\n",
    "    relevant_tokens = []\n",
    "    for token_tag in tagged_tokens:\n",
    "        if token_tag[1]==\"NN\":\n",
    "            relevant_tokens.append (token_tag[0])\n",
    "    return relevant_tokens"
   ]
  },
  {
   "cell_type": "code",
   "execution_count": 433,
   "metadata": {
    "collapsed": false
   },
   "outputs": [
    {
     "data": {
      "text/plain": [
       "(177,)"
      ]
     },
     "execution_count": 433,
     "metadata": {},
     "output_type": "execute_result"
    }
   ],
   "source": [
    "vectorizer = TfidfVectorizer(tokenizer=tokenize, min_df=0.1, stop_words='english')\n",
    "X = vectorizer.fit_transform (job_desc)\n",
    "features = vectorizer.get_feature_names()\n",
    "vectorizer.idf_.shape"
   ]
  },
  {
   "cell_type": "code",
   "execution_count": 522,
   "metadata": {
    "collapsed": false
   },
   "outputs": [
    {
     "name": "stdout",
     "output_type": "stream",
     "text": [
      "['experience', 'team', 'data', 'business', 'development', 'work', 'knowledge', 'opportunity', 'position', 'design', 'resume', 'status', 'environment', 'document', 'ability', 'management', 'technology', 'employment', 'sql', 'consideration', 'email', 'software', 'color', 'company', 'disability', 'sex', 'identity', 'origin', 'veteran', 'race', 'religion', 'employer', 'compliance', 'regard', 'science', 'law', 'minimum', 'right', 'engineering', 'engineer', 'word', 'hadoop', 'quality', 'hire', 'analysis', 'information', 'python', 'fit', 'job', 'form', 'eligibility', 'verification', '©', 'link', 'computer', 'copyright', 'communication', 'java', 'role', 'today', 'support', 'degree', 'understanding', 'industry', 'platform', 'performance', 'product', 'client', 'architecture', 'francisco', 'location', 'application', 'project', 'machine', 'enterprise', 'process', 'building', 'infrastructure', 'time', 'database', 'leadership', 'customer', 'spark', 'processing', 'world', 'learning', 'analyst', 'growth', 'etl', 'integration', 'expertise', 'problem', 'reporting', 'vision', 'level', 'implementation', 'equity', 'web', 'intelligence', 'solution', 'production', 'field', 'modeling', 'organization', 'description', 'warehouse', 'service', 'delivery', 'culture', 'code', 'security', 'architect', 'area', 'candidate', 'programming', 'r', 'master', 'scale', 'education', 'source', 'mining', 'mapreduce', 'access', 'variety', 'visualization', 'day', 'background', '%', 'market', 'hbase', 'manager', 'salary', 'health', 'use', 'base', 'algorithms', 'plan', 'impact', 'duration', 'strategy', 'compensation', 'group', 'documentation', 'way', 'life', 'range', 'scala', 'pig', 'success', 'research', 'language', 'bachelor', 'edge', 'end', 'basis', 'consulting', 'manage', 'core', 'title', 'storage', 'stack', 'scientist', 'value', 'oracle', 'cassandra', 'kafka', 'year', 'structure', 'user', 'change', 'package', 'server', 'governance', 'focus', 'proficiency', 'model', 'lead']\n"
     ]
    }
   ],
   "source": [
    "indices = np.argsort (vectorizer.idf_)\n",
    "top_n = 177\n",
    "scores = vectorizer.idf_[indices[:top_n]]\n",
    "top_features = [features[i] for i in indices[:top_n]]\n",
    "feature_score = dict (zip (top_features, scores))\n",
    "print (top_features)"
   ]
  },
  {
   "cell_type": "markdown",
   "metadata": {},
   "source": [
    "## Eliminating Words Common To All Job Postings\n",
    "\n",
    "#### Doing a quick scan of frequently occuring words, it is clear that words that appear on virtually every job description like company, veteran, race, religion etc. are dominating the results. We will now compensate for this and get the data scientist specific keywords by screen scraping a variety of job profiles and then removing the words that occur frequently in that set. This way we identify domain specific words for data science"
   ]
  },
  {
   "cell_type": "code",
   "execution_count": 523,
   "metadata": {
    "collapsed": false
   },
   "outputs": [
    {
     "name": "stdout",
     "output_type": "stream",
     "text": [
      "Search page 1\n",
      "Search page 2\n",
      "Search page 3\n",
      "Search page 4\n",
      "Search page 5\n"
     ]
    },
    {
     "name": "stderr",
     "output_type": "stream",
     "text": [
      "/Users/ganesh/anaconda3/lib/python3.5/site-packages/bs4/__init__.py:166: UserWarning: No parser was explicitly specified, so I'm using the best available HTML parser for this system (\"lxml\"). This usually isn't a problem, but if you run this code on another system, or in a different virtual environment, it may use a different parser and behave differently.\n",
      "\n",
      "To get rid of this warning, change this:\n",
      "\n",
      " BeautifulSoup([your markup])\n",
      "\n",
      "to this:\n",
      "\n",
      " BeautifulSoup([your markup], \"lxml\")\n",
      "\n",
      "  markup_type=markup_type))\n"
     ]
    }
   ],
   "source": [
    "url = \"https://www.dice.com/jobs/sort-date-limit-30-l-94133-radius-30-startPage-{}-limit-30-jobs\"\n",
    "\n",
    "r = requests.get(url.format(\"1\"), headers=headers)\n",
    "soup = BeautifulSoup(r.text)\n",
    "\n",
    "count_block = soup.find_all ('h4')\n",
    "num_results = int (count_block[0].find_all('span')[1].text)\n",
    "num_pages = math.ceil (num_results/30)\n",
    "num_pages = 5\n",
    "\n",
    "other_links= []\n",
    "other_title= []\n",
    "\n",
    "for search_page in range (1, num_pages + 1):\n",
    "    print (\"Search page {}\".format (search_page))\n",
    "    r = requests.get(url.format (search_page), headers=headers)\n",
    "    soup = BeautifulSoup(r.text)\n",
    "    for div in soup.find_all('div'):\n",
    "        try:\n",
    "            if div['class']==['serp-result-content']:\n",
    "                all_links = div.find_all('a')\n",
    "                for link in all_links:\n",
    "                    if re.search ('position[0-9]+', link['id']):\n",
    "                        other_title.append (link['title'])\n",
    "                        other_links.append (link['href'])\n",
    "        except:\n",
    "            next"
   ]
  },
  {
   "cell_type": "code",
   "execution_count": 524,
   "metadata": {
    "collapsed": false
   },
   "outputs": [
    {
     "name": "stdout",
     "output_type": "stream",
     "text": [
      "Processing page #1\n",
      "Processing page #2\n",
      "Processing page #3\n",
      "Processing page #4\n",
      "Processing page #5\n",
      "Processing page #6\n",
      "Processing page #7\n",
      "Processing page #8\n",
      "Processing page #9\n",
      "Processing page #10\n",
      "Processing page #11\n",
      "Processing page #12\n",
      "Processing page #13\n",
      "Processing page #14\n",
      "Processing page #15\n",
      "Processing page #16\n",
      "Processing page #17\n",
      "Processing page #18\n",
      "Processing page #19\n",
      "Processing page #20\n",
      "Processing page #21\n",
      "Processing page #22\n",
      "Processing page #23\n",
      "Processing page #24\n",
      "Processing page #25\n",
      "Processing page #26\n",
      "Processing page #27\n",
      "Processing page #28\n",
      "Processing page #29\n",
      "Processing page #30\n",
      "Processing page #31\n",
      "Processing page #32\n",
      "Processing page #33\n",
      "Processing page #34\n",
      "Processing page #35\n",
      "Processing page #36\n",
      "Processing page #37\n",
      "Processing page #38\n",
      "Processing page #39\n",
      "Processing page #40\n",
      "Processing page #41\n",
      "Processing page #42\n",
      "Processing page #43\n",
      "Processing page #44\n",
      "Processing page #45\n",
      "Processing page #46\n",
      "Processing page #47\n",
      "Processing page #48\n",
      "Processing page #49\n",
      "Processing page #50\n",
      "Processing page #51\n",
      "Processing page #52\n",
      "Processing page #53\n",
      "Processing page #54\n",
      "Processing page #55\n",
      "Processing page #56\n",
      "Processing page #57\n",
      "Processing page #58\n",
      "Processing page #59\n",
      "Processing page #60\n",
      "Processing page #61\n",
      "Processing page #62\n",
      "Processing page #63\n",
      "Processing page #64\n",
      "Processing page #65\n",
      "Processing page #66\n",
      "Processing page #67\n",
      "Processing page #68\n",
      "Processing page #69\n",
      "Processing page #70\n",
      "Processing page #71\n",
      "Processing page #72\n",
      "Processing page #73\n",
      "Processing page #74\n",
      "Processing page #75\n",
      "Processing page #76\n",
      "Processing page #77\n",
      "Processing page #78\n",
      "Processing page #79\n",
      "Processing page #80\n",
      "Processing page #81\n",
      "Processing page #82\n",
      "Processing page #83\n",
      "Processing page #84\n",
      "Processing page #85\n",
      "Processing page #86\n",
      "Processing page #87\n",
      "Processing page #88\n",
      "Processing page #89\n",
      "Processing page #90\n",
      "Processing page #91\n",
      "Processing page #92\n",
      "Processing page #93\n",
      "Processing page #94\n",
      "Processing page #95\n"
     ]
    },
    {
     "name": "stderr",
     "output_type": "stream",
     "text": [
      "/Users/ganesh/anaconda3/lib/python3.5/site-packages/bs4/__init__.py:166: UserWarning: No parser was explicitly specified, so I'm using the best available HTML parser for this system (\"lxml\"). This usually isn't a problem, but if you run this code on another system, or in a different virtual environment, it may use a different parser and behave differently.\n",
      "\n",
      "To get rid of this warning, change this:\n",
      "\n",
      " BeautifulSoup([your markup])\n",
      "\n",
      "to this:\n",
      "\n",
      " BeautifulSoup([your markup], \"lxml\")\n",
      "\n",
      "  markup_type=markup_type))\n"
     ]
    }
   ],
   "source": [
    "other_job_desc_div = []\n",
    "for index, link in enumerate (other_links, start=1):\n",
    "    try:\n",
    "        print (\"Processing page #{}\".format(index))\n",
    "        r = requests.get (link, headers=headers)\n",
    "        soup = BeautifulSoup (r.text)\n",
    "        for div in soup.find_all ('div'):\n",
    "            try:\n",
    "                if div['id'] == 'jobdescSec':\n",
    "                    other_job_desc_div.append (div)\n",
    "            except KeyError:\n",
    "                next\n",
    "    except:\n",
    "        next\n",
    "        \n",
    "other_job_desc = [re.sub (u'\\xa0', u' ', div.get_text(\"\\n\", strip=True)) for div in other_job_desc_div ]"
   ]
  },
  {
   "cell_type": "code",
   "execution_count": 525,
   "metadata": {
    "collapsed": false
   },
   "outputs": [
    {
     "name": "stdout",
     "output_type": "stream",
     "text": [
      "['experience', 'business', 'team', 'management', 'environment', 'development', 'knowledge', 'technology', 'communication', 'project', 'design', 'information', 'work', 'ability', 'client', 'opportunity', 'software', 'status', 'company', 'location', 'role', 'understanding', 'staff', 'product', 'employer', 'position', 'computer', 'process', 'degree', 'engineering', 'industry', 'application', 'support', 'analysis', 'francisco', 'job', 'plan', 'architecture', 'science', 'performance', 'disability', 'problem', 'level', 'identity', 'candidate', 'race', 'contract', 'veteran', 'origin', 'orientation', 'quality', 'regard', 'employment', 'security', 'world', 'time', 'service', 'enterprise', 'year', 'color', 'organization', 'manager', 'expertise', 'platform', 'education', 'office', 'web', 'delivery', 'strategy', 'implementation', 'sex', 'leadership', 'engineer', 'infrastructure', 'gender', 'category', 'bachelor', 'documentation', 'integration', 'change', 'leader', 'oracle', 'production', 'title', 'partner', '*', 'age', 'customer', 'database', 'execution', 'automation', 'excellence', 'advantage', 'sql', 'maintenance', 'administration', 'area', 'monitoring', 'field', 'server', 'risk', 'code', 'analyst', 'training', 'person', 'inc.', 'use', 'staffing', 'user', 'data', 'package', 'suite', 'test', 'group', 'configuration', 'solution', 'and/or', 'research', 'creed', 'ancestry', 'source', 'python', 'consumer', 'contractor', 'core', 'certification', 'building', 'plus', 'california', 'hardware', 'talent', 'travel', 'energy', 'kforce', 'order', 'marketing', 'description', 'americas', 'passion', 'feedback', 'assistance', 'interface', 'manufacturing', 'k', 'access', 'lead', 'excel', 'manage', 'center', 'cloud', 'initiative', 'expert', 'culture', 'planning', 'presentation', 'healthcare', 'program', 'programming', 'consultant', 'resume', 'today', 'compensation', 'community', 'network', 'religion', 'reporting', 'need', 'email', 'resolution', 'america', 'content', 'relationship', 'consulting', 'deployment', 'developer', 'duration', 'minimum']\n"
     ]
    }
   ],
   "source": [
    "other_vectorizer = TfidfVectorizer(tokenizer=tokenize, min_df=0.1, stop_words='english')\n",
    "X = other_vectorizer.fit_transform (other_job_desc)\n",
    "other_features = other_vectorizer.get_feature_names()\n",
    "indices = np.argsort (other_vectorizer.idf_)\n",
    "other_top_features = [other_features[i] for i in indices[:top_n]]\n",
    "print (other_top_features)"
   ]
  },
  {
   "cell_type": "code",
   "execution_count": 530,
   "metadata": {
    "collapsed": false
   },
   "outputs": [
    {
     "data": {
      "text/plain": [
       "['warehouse',\n",
       " 'storage',\n",
       " 'structure',\n",
       " 'modeling',\n",
       " 'base',\n",
       " 'machine',\n",
       " 'mapreduce',\n",
       " 'learning',\n",
       " 'java',\n",
       " 'language',\n",
       " 'stack',\n",
       " 'impact',\n",
       " 'visualization',\n",
       " 'health',\n",
       " 'day',\n",
       " 'range',\n",
       " 'basis',\n",
       " 'governance',\n",
       " 'value',\n",
       " 'scientist',\n",
       " 'spark',\n",
       " 'focus',\n",
       " 'algorithms',\n",
       " 'life',\n",
       " 'proficiency',\n",
       " 'hadoop',\n",
       " 'architect',\n",
       " 'hbase',\n",
       " 'scale',\n",
       " 'fit',\n",
       " 'scala',\n",
       " 'verification',\n",
       " 'cassandra',\n",
       " 'model',\n",
       " 'pig',\n",
       " 'edge',\n",
       " 'success',\n",
       " 'salary',\n",
       " 'mining',\n",
       " 'etl',\n",
       " 'r',\n",
       " 'kafka',\n",
       " 'market',\n",
       " 'background',\n",
       " 'master']"
      ]
     },
     "execution_count": 530,
     "metadata": {},
     "output_type": "execute_result"
    }
   ],
   "source": [
    "data_specific_features = list (set (top_features) - set(other_top_features))\n",
    "words_to_remove = ['intelligence', 'data', 'word', 'growth', 'eligibility', 'vision', 'resume', 'equity', \\\n",
    "                   'processing', 'right', 'copyright', 'minimum', 'hire', 'email', '©', 'consideration', 'today', \\\n",
    "                   'document', 'form', 'compliance', 'law', 'link', '%', 'way', 'end', 'variety']\n",
    "data_specific_features = [feature for feature in data_specific_features if feature not in words_to_remove]\n",
    "data_specific_features"
   ]
  },
  {
   "cell_type": "markdown",
   "metadata": {},
   "source": [
    "#### While not perfect, this gives a manageable list of words that can be used to extract the important skills that jobs look for in a data scientist. "
   ]
  },
  {
   "cell_type": "code",
   "execution_count": 531,
   "metadata": {
    "collapsed": false
   },
   "outputs": [
    {
     "name": "stdout",
     "output_type": "stream",
     "text": [
      "structure - 8\n",
      "kafka - 8\n",
      "focus - 8\n",
      "proficiency - 8\n",
      "governance - 8\n",
      "model - 8\n",
      "storage - 9\n",
      "stack - 9\n",
      "basis - 9\n",
      "value - 9\n",
      "scientist - 9\n",
      "language - 9\n",
      "cassandra - 9\n",
      "pig - 9\n",
      "edge - 9\n",
      "success - 9\n",
      "base - 10\n",
      "impact - 10\n",
      "range - 10\n",
      "algorithms - 10\n",
      "life - 10\n",
      "scala - 10\n",
      "hbase - 11\n",
      "health - 11\n",
      "mapreduce - 11\n",
      "day - 11\n",
      "market - 11\n",
      "salary - 11\n",
      "mining - 11\n",
      "background - 11\n",
      "visualization - 11\n",
      "architect - 12\n",
      "scale - 12\n",
      "r - 12\n",
      "master - 12\n",
      "warehouse - 13\n",
      "modeling - 14\n",
      "learning - 17\n",
      "etl - 17\n",
      "spark - 18\n",
      "machine - 20\n",
      "java - 26\n",
      "verification - 28\n",
      "fit - 29\n",
      "hadoop - 30\n"
     ]
    },
    {
     "data": {
      "text/plain": [
       "(-0.5, 399.5, 199.5, -0.5)"
      ]
     },
     "execution_count": 531,
     "metadata": {},
     "output_type": "execute_result"
    },
    {
     "data": {
      "image/png": "[encoded data removed]",
      "text/plain": [
       "<matplotlib.figure.Figure at 0x12780e9b0>"
      ]
     },
     "metadata": {},
     "output_type": "display_data"
    }
   ],
   "source": [
    "freq = {}\n",
    "num_data_jobs = len(relevant_links)\n",
    "for index, feature in enumerate (data_specific_features):\n",
    "    freq[feature] = int (num_data_jobs*math.exp (-feature_score[feature]))\n",
    "\n",
    "sorted_freq = collections.OrderedDict (sorted(freq.items(), key=lambda t: t[1]))\n",
    "for keys, values in sorted_freq.items():\n",
    "    print (\"{} - {}\".format (keys, values))\n",
    "\n",
    "wordcloud = WordCloud().generate_from_frequencies (frequencies=list (freq.items()))\n",
    "plt.imshow (wordcloud)\n",
    "plt.axis (\"off\")"
   ]
  }
 ],
 "metadata": {
  "kernelspec": {
   "display_name": "Python 3",
   "language": "python",
   "name": "python3"
  },
  "language_info": {
   "codemirror_mode": {
    "name": "ipython",
    "version": 3
   },
   "file_extension": ".py",
   "mimetype": "text/x-python",
   "name": "python",
   "nbconvert_exporter": "python",
   "pygments_lexer": "ipython3",
   "version": "3.5.1"
  }
 },
 "nbformat": 4,
 "nbformat_minor": 0
}
